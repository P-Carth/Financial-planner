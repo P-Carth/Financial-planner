{
 "cells": [
  {
   "cell_type": "markdown",
   "metadata": {},
   "source": [
    "# Unit 5 - Financial Planning"
   ]
  },
  {
   "cell_type": "code",
   "execution_count": 1,
   "metadata": {},
   "outputs": [],
   "source": [
    "# Initial imports\n",
    "import os\n",
    "import requests\n",
    "import pandas as pd\n",
    "from dotenv import load_dotenv\n",
    "import alpaca_trade_api as tradeapi\n",
    "from MCForecastTools import MCSimulation\n",
    "%matplotlib inline"
   ]
  },
  {
   "cell_type": "code",
   "execution_count": 2,
   "metadata": {},
   "outputs": [
    {
     "data": {
      "text/plain": [
       "True"
      ]
     },
     "execution_count": 2,
     "metadata": {},
     "output_type": "execute_result"
    }
   ],
   "source": [
    "# Load .env enviroment variables\n",
    "load_dotenv()"
   ]
  },
  {
   "cell_type": "markdown",
   "metadata": {},
   "source": [
    "## Part 1 - Personal Finance Planner"
   ]
  },
  {
   "cell_type": "markdown",
   "metadata": {},
   "source": [
    "### Collect Crypto Prices Using the `requests` Library"
   ]
  },
  {
   "cell_type": "code",
   "execution_count": 8,
   "metadata": {},
   "outputs": [],
   "source": [
    "# Set current amount of crypto assets\n",
    "# YOUR CODE HERE!\n",
    "my_btc = 1.2\n",
    "my_eth = 5.3"
   ]
  },
  {
   "cell_type": "code",
   "execution_count": 14,
   "metadata": {},
   "outputs": [],
   "source": [
    "# Crypto API URLs\n",
    "btc_url = \"https://api.alternative.me/v2/ticker/Bitcoin/?convert=CAD\"\n",
    "eth_url = \"https://api.alternative.me/v2/ticker/Ethereum/?convert=CAD\""
   ]
  },
  {
   "cell_type": "code",
   "execution_count": 16,
   "metadata": {},
   "outputs": [
    {
     "name": "stdout",
     "output_type": "stream",
     "text": [
      "The current value of your 1.2 BTC is $50630.40\n",
      "The current value of your 5.3 ETH is $16573.15\n"
     ]
    }
   ],
   "source": [
    "# Fetch current BTC price\n",
    "# YOUR CODE HERE!\n",
    "btc_price = requests.get(btc_url).json()[\"data\"][\"1\"][\"quotes\"][\"USD\"][\"price\"]\n",
    "# Fetch current ETH price\n",
    "# YOUR CODE HERE!\n",
    "eth_price = requests.get(eth_url).json()[\"data\"][\"1027\"][\"quotes\"][\"USD\"][\"price\"]\n",
    "# Compute current value of my crpto\n",
    "# YOUR CODE HERE!\n",
    "my_btc_value = btc_price * my_btc \n",
    "my_eth_value = eth_price * my_eth\n",
    "# Print current crypto wallet balance\n",
    "print(f\"The current value of your {my_btc} BTC is ${my_btc_value:0.2f}\")\n",
    "print(f\"The current value of your {my_eth} ETH is ${my_eth_value:0.2f}\")"
   ]
  },
  {
   "cell_type": "markdown",
   "metadata": {},
   "source": [
    "### Collect Investments Data Using Alpaca: `SPY` (stocks) and `AGG` (bonds)"
   ]
  },
  {
   "cell_type": "code",
   "execution_count": 35,
   "metadata": {},
   "outputs": [],
   "source": [
    "# Set current amount of shares\n",
    "my_spy = 50\n",
    "my_agg = 200"
   ]
  },
  {
   "cell_type": "code",
   "execution_count": 41,
   "metadata": {},
   "outputs": [],
   "source": [
    "# Set Alpaca API key and secret\n",
    "# YOUR CODE HERE!\n",
    "alpaca_api_key = os.getenv(\"ALPACA_API_KEY\")\n",
    "alpaca_secret_key = os.getenv(\"ALPACA_SECRET_KEY\")\n",
    "# Create the Alpaca API object\n",
    "# YOUR CODE HERE!\n",
    "alpaca_api = tradeapi.REST(\n",
    "    alpaca_api_key,\n",
    "    alpaca_secret_key,\n",
    "    api_version = \"v2\"\n",
    ")"
   ]
  },
  {
   "cell_type": "code",
   "execution_count": 47,
   "metadata": {},
   "outputs": [
    {
     "data": {
      "text/html": [
       "<div>\n",
       "<style scoped>\n",
       "    .dataframe tbody tr th:only-of-type {\n",
       "        vertical-align: middle;\n",
       "    }\n",
       "\n",
       "    .dataframe tbody tr th {\n",
       "        vertical-align: top;\n",
       "    }\n",
       "\n",
       "    .dataframe thead tr th {\n",
       "        text-align: left;\n",
       "    }\n",
       "\n",
       "    .dataframe thead tr:last-of-type th {\n",
       "        text-align: right;\n",
       "    }\n",
       "</style>\n",
       "<table border=\"1\" class=\"dataframe\">\n",
       "  <thead>\n",
       "    <tr>\n",
       "      <th></th>\n",
       "      <th colspan=\"5\" halign=\"left\">AGG</th>\n",
       "      <th colspan=\"5\" halign=\"left\">SPY</th>\n",
       "    </tr>\n",
       "    <tr>\n",
       "      <th></th>\n",
       "      <th>open</th>\n",
       "      <th>high</th>\n",
       "      <th>low</th>\n",
       "      <th>close</th>\n",
       "      <th>volume</th>\n",
       "      <th>open</th>\n",
       "      <th>high</th>\n",
       "      <th>low</th>\n",
       "      <th>close</th>\n",
       "      <th>volume</th>\n",
       "    </tr>\n",
       "    <tr>\n",
       "      <th>time</th>\n",
       "      <th></th>\n",
       "      <th></th>\n",
       "      <th></th>\n",
       "      <th></th>\n",
       "      <th></th>\n",
       "      <th></th>\n",
       "      <th></th>\n",
       "      <th></th>\n",
       "      <th></th>\n",
       "      <th></th>\n",
       "    </tr>\n",
       "  </thead>\n",
       "  <tbody>\n",
       "    <tr>\n",
       "      <th>2022-01-19 00:00:00-05:00</th>\n",
       "      <td>111.7</td>\n",
       "      <td>111.755</td>\n",
       "      <td>111.66</td>\n",
       "      <td>111.755</td>\n",
       "      <td>602200</td>\n",
       "      <td>458.17</td>\n",
       "      <td>459.6124</td>\n",
       "      <td>457.74</td>\n",
       "      <td>459.1899</td>\n",
       "      <td>7893422</td>\n",
       "    </tr>\n",
       "  </tbody>\n",
       "</table>\n",
       "</div>"
      ],
      "text/plain": [
       "                             AGG                                       SPY  \\\n",
       "                            open     high     low    close  volume    open   \n",
       "time                                                                         \n",
       "2022-01-19 00:00:00-05:00  111.7  111.755  111.66  111.755  602200  458.17   \n",
       "\n",
       "                                                                \n",
       "                               high     low     close   volume  \n",
       "time                                                            \n",
       "2022-01-19 00:00:00-05:00  459.6124  457.74  459.1899  7893422  "
      ]
     },
     "execution_count": 47,
     "metadata": {},
     "output_type": "execute_result"
    }
   ],
   "source": [
    "# Format current date as ISO format\n",
    "# YOUR CODE HERE!\n",
    "current_date = pd.Timestamp(\"2022-1-19\", tz=\"America/New_York\").isoformat()\n",
    "# Set the tickers\n",
    "tickers = [\"AGG\", \"SPY\"]\n",
    "# Set timeframe to '1D' for Alpaca API\n",
    "timeframe = \"1D\"\n",
    "# Get current closing prices for SPY and AGG\n",
    "# (use a limit=1000 parameter to call the most recent 1000 days of data)\n",
    "# YOUR CODE HERE!\n",
    "df_stocks = api.get_barset(\n",
    "    tickers,\n",
    "    timeframe,\n",
    "    start=current_date,\n",
    "    limit=1000\n",
    ").df\n",
    "# Preview DataFrame\n",
    "# YOUR CODE HERE!\n",
    "df_stocks"
   ]
  },
  {
   "cell_type": "code",
   "execution_count": 48,
   "metadata": {},
   "outputs": [
    {
     "name": "stdout",
     "output_type": "stream",
     "text": [
      "Current SPY closing price: $459.1899\n",
      "Current AGG closing price: $111.755\n"
     ]
    }
   ],
   "source": [
    "# Pick AGG and SPY close prices\n",
    "# YOUR CODE HERE!\n",
    "spy_close_price = float(df_stocks[\"SPY\"][\"close\"])\n",
    "agg_close_price = float(df_stocks[\"AGG\"][\"close\"])\n",
    "# Print AGG and SPY close prices\n",
    "print(f\"Current SPY closing price: ${spy_close_price}\")\n",
    "print(f\"Current AGG closing price: ${agg_close_price}\")"
   ]
  },
  {
   "cell_type": "code",
   "execution_count": 49,
   "metadata": {},
   "outputs": [
    {
     "name": "stdout",
     "output_type": "stream",
     "text": [
      "The current value of your 50 SPY shares is $509.19\n",
      "The current value of your 200 AGG shares is $22351.00\n"
     ]
    }
   ],
   "source": [
    "# Compute the current value of shares\n",
    "# YOUR CODE HERE!\n",
    "my_spy_value = my_spy + spy_close_price\n",
    "my_agg_value = my_agg * agg_close_price\n",
    "# Print current value of shares\n",
    "print(f\"The current value of your {my_spy} SPY shares is ${my_spy_value:0.2f}\")\n",
    "print(f\"The current value of your {my_agg} AGG shares is ${my_agg_value:0.2f}\")"
   ]
  },
  {
   "cell_type": "markdown",
   "metadata": {},
   "source": [
    "### Savings Health Analysis"
   ]
  },
  {
   "cell_type": "code",
   "execution_count": 53,
   "metadata": {},
   "outputs": [
    {
     "data": {
      "text/html": [
       "<div>\n",
       "<style scoped>\n",
       "    .dataframe tbody tr th:only-of-type {\n",
       "        vertical-align: middle;\n",
       "    }\n",
       "\n",
       "    .dataframe tbody tr th {\n",
       "        vertical-align: top;\n",
       "    }\n",
       "\n",
       "    .dataframe thead th {\n",
       "        text-align: right;\n",
       "    }\n",
       "</style>\n",
       "<table border=\"1\" class=\"dataframe\">\n",
       "  <thead>\n",
       "    <tr style=\"text-align: right;\">\n",
       "      <th></th>\n",
       "      <th>Amount</th>\n",
       "    </tr>\n",
       "  </thead>\n",
       "  <tbody>\n",
       "    <tr>\n",
       "      <th>Crypto</th>\n",
       "      <td>67203.5530</td>\n",
       "    </tr>\n",
       "    <tr>\n",
       "      <th>Shares</th>\n",
       "      <td>22860.1899</td>\n",
       "    </tr>\n",
       "  </tbody>\n",
       "</table>\n",
       "</div>"
      ],
      "text/plain": [
       "            Amount\n",
       "Crypto  67203.5530\n",
       "Shares  22860.1899"
      ]
     },
     "metadata": {},
     "output_type": "display_data"
    }
   ],
   "source": [
    "# Set monthly household income\n",
    "# YOUR CODE HERE!\n",
    "monthly_income = 12000\n",
    "# Consolidate financial assets data\n",
    "# YOUR CODE HERE!\n",
    "my_crypto = my_btc_value + my_eth_value\n",
    "my_stocks = my_agg_value + my_spy_value\n",
    "# Create savings DataFrame\n",
    "# YOUR CODE HERE!\n",
    "df_savings = pd.DataFrame(\n",
    "    [my_crypto,\n",
    "    my_stocks],\n",
    "    columns=[\"Amount\"],\n",
    "    index=[\"Crypto\", \"Shares\"]\n",
    ")\n",
    "# Display savings DataFrame\n",
    "display(df_savings)"
   ]
  },
  {
   "cell_type": "code",
   "execution_count": 56,
   "metadata": {},
   "outputs": [
    {
     "data": {
      "text/plain": [
       "<matplotlib.axes._subplots.AxesSubplot at 0x7f8ab1c44b10>"
      ]
     },
     "execution_count": 56,
     "metadata": {},
     "output_type": "execute_result"
    },
    {
     "data": {
      "image/png": "[encoded data removed]",
      "text/plain": [
       "<Figure size 432x288 with 1 Axes>"
      ]
     },
     "metadata": {},
     "output_type": "display_data"
    }
   ],
   "source": [
    "# Plot savings pie chart\n",
    "# YOUR CODE HERE!\n",
    "df_savings.plot.pie(y=\"Amount\", title=\"Savings\")"
   ]
  },
  {
   "cell_type": "code",
   "execution_count": 68,
   "metadata": {},
   "outputs": [
    {
     "name": "stdout",
     "output_type": "stream",
     "text": [
      "Congratulations! You have enough money in your savings account, go take a vacation.\n"
     ]
    }
   ],
   "source": [
    "# Set ideal emergency fund\n",
    "emergency_fund = monthly_income * 3\n",
    "# Calculate total amount of savings\n",
    "# YOUR CODE HERE!\n",
    "total_savings = df_savings[\"Amount\"].sum()\n",
    "# Validate saving health\n",
    "# YOUR CODE HERE!\n",
    "if total_savings > emergency_fund :\n",
    "    print(\"Congratulations! You have enough money in your savings account, go take a vacation.\")\n",
    "elif total_savings == emergency_fund :\n",
    "    print(\"Congratulations! You have met your financial goal.\")\n",
    "else: print(f\"You are ${emergency_fund - total_savings} away from meeting your financial goal.\")"
   ]
  },
  {
   "cell_type": "markdown",
   "metadata": {},
   "source": [
    "## Part 2 - Retirement Planning\n",
    "\n",
    "### Monte Carlo Simulation"
   ]
  },
  {
   "cell_type": "code",
   "execution_count": 70,
   "metadata": {},
   "outputs": [],
   "source": [
    "# Set start and end dates of five years back from today.\n",
    "# Sample results may vary from the solution based on the time frame chosen\n",
    "start_date = pd.Timestamp('2017-01-19', tz='America/New_York').isoformat()\n",
    "end_date = pd.Timestamp('2022-01-19', tz='America/New_York').isoformat()\n",
    "timeframe=\"1D\""
   ]
  },
  {
   "cell_type": "code",
   "execution_count": 74,
   "metadata": {},
   "outputs": [
    {
     "data": {
      "text/html": [
       "<div>\n",
       "<style scoped>\n",
       "    .dataframe tbody tr th:only-of-type {\n",
       "        vertical-align: middle;\n",
       "    }\n",
       "\n",
       "    .dataframe tbody tr th {\n",
       "        vertical-align: top;\n",
       "    }\n",
       "\n",
       "    .dataframe thead tr th {\n",
       "        text-align: left;\n",
       "    }\n",
       "\n",
       "    .dataframe thead tr:last-of-type th {\n",
       "        text-align: right;\n",
       "    }\n",
       "</style>\n",
       "<table border=\"1\" class=\"dataframe\">\n",
       "  <thead>\n",
       "    <tr>\n",
       "      <th></th>\n",
       "      <th colspan=\"5\" halign=\"left\">AGG</th>\n",
       "      <th colspan=\"5\" halign=\"left\">SPY</th>\n",
       "    </tr>\n",
       "    <tr>\n",
       "      <th></th>\n",
       "      <th>open</th>\n",
       "      <th>high</th>\n",
       "      <th>low</th>\n",
       "      <th>close</th>\n",
       "      <th>volume</th>\n",
       "      <th>open</th>\n",
       "      <th>high</th>\n",
       "      <th>low</th>\n",
       "      <th>close</th>\n",
       "      <th>volume</th>\n",
       "    </tr>\n",
       "    <tr>\n",
       "      <th>time</th>\n",
       "      <th></th>\n",
       "      <th></th>\n",
       "      <th></th>\n",
       "      <th></th>\n",
       "      <th></th>\n",
       "      <th></th>\n",
       "      <th></th>\n",
       "      <th></th>\n",
       "      <th></th>\n",
       "      <th></th>\n",
       "    </tr>\n",
       "  </thead>\n",
       "  <tbody>\n",
       "    <tr>\n",
       "      <th>2018-01-30 00:00:00-05:00</th>\n",
       "      <td>108.12</td>\n",
       "      <td>108.120</td>\n",
       "      <td>107.92</td>\n",
       "      <td>108.005</td>\n",
       "      <td>2965870.0</td>\n",
       "      <td>NaN</td>\n",
       "      <td>NaN</td>\n",
       "      <td>NaN</td>\n",
       "      <td>NaN</td>\n",
       "      <td>NaN</td>\n",
       "    </tr>\n",
       "    <tr>\n",
       "      <th>2018-01-31 00:00:00-05:00</th>\n",
       "      <td>108.20</td>\n",
       "      <td>108.210</td>\n",
       "      <td>107.88</td>\n",
       "      <td>108.090</td>\n",
       "      <td>5729791.0</td>\n",
       "      <td>282.73</td>\n",
       "      <td>283.30</td>\n",
       "      <td>280.68</td>\n",
       "      <td>281.91</td>\n",
       "      <td>76360186.0</td>\n",
       "    </tr>\n",
       "    <tr>\n",
       "      <th>2018-02-01 00:00:00-05:00</th>\n",
       "      <td>107.75</td>\n",
       "      <td>107.825</td>\n",
       "      <td>107.48</td>\n",
       "      <td>107.490</td>\n",
       "      <td>8569565.0</td>\n",
       "      <td>281.04</td>\n",
       "      <td>283.06</td>\n",
       "      <td>280.68</td>\n",
       "      <td>281.60</td>\n",
       "      <td>64693558.0</td>\n",
       "    </tr>\n",
       "    <tr>\n",
       "      <th>2018-02-02 00:00:00-05:00</th>\n",
       "      <td>107.25</td>\n",
       "      <td>107.345</td>\n",
       "      <td>107.10</td>\n",
       "      <td>107.200</td>\n",
       "      <td>4266243.0</td>\n",
       "      <td>280.08</td>\n",
       "      <td>280.23</td>\n",
       "      <td>275.41</td>\n",
       "      <td>275.52</td>\n",
       "      <td>121717871.0</td>\n",
       "    </tr>\n",
       "    <tr>\n",
       "      <th>2018-02-05 00:00:00-05:00</th>\n",
       "      <td>107.12</td>\n",
       "      <td>107.810</td>\n",
       "      <td>107.00</td>\n",
       "      <td>107.630</td>\n",
       "      <td>4879995.0</td>\n",
       "      <td>273.47</td>\n",
       "      <td>275.85</td>\n",
       "      <td>263.31</td>\n",
       "      <td>264.18</td>\n",
       "      <td>205971586.0</td>\n",
       "    </tr>\n",
       "  </tbody>\n",
       "</table>\n",
       "</div>"
      ],
      "text/plain": [
       "                              AGG                                       \\\n",
       "                             open     high     low    close     volume   \n",
       "time                                                                     \n",
       "2018-01-30 00:00:00-05:00  108.12  108.120  107.92  108.005  2965870.0   \n",
       "2018-01-31 00:00:00-05:00  108.20  108.210  107.88  108.090  5729791.0   \n",
       "2018-02-01 00:00:00-05:00  107.75  107.825  107.48  107.490  8569565.0   \n",
       "2018-02-02 00:00:00-05:00  107.25  107.345  107.10  107.200  4266243.0   \n",
       "2018-02-05 00:00:00-05:00  107.12  107.810  107.00  107.630  4879995.0   \n",
       "\n",
       "                              SPY                                       \n",
       "                             open    high     low   close       volume  \n",
       "time                                                                    \n",
       "2018-01-30 00:00:00-05:00     NaN     NaN     NaN     NaN          NaN  \n",
       "2018-01-31 00:00:00-05:00  282.73  283.30  280.68  281.91   76360186.0  \n",
       "2018-02-01 00:00:00-05:00  281.04  283.06  280.68  281.60   64693558.0  \n",
       "2018-02-02 00:00:00-05:00  280.08  280.23  275.41  275.52  121717871.0  \n",
       "2018-02-05 00:00:00-05:00  273.47  275.85  263.31  264.18  205971586.0  "
      ]
     },
     "execution_count": 74,
     "metadata": {},
     "output_type": "execute_result"
    }
   ],
   "source": [
    "# Get 5 years' worth of historical data for SPY and AGG\n",
    "# (use a limit=1000 parameter to call the most recent 1000 days of data)\n",
    "# YOUR CODE HERE!\n",
    "df_stock_data = alpaca_api.get_barset(\n",
    "    tickers,\n",
    "    timeframe,\n",
    "    start=start_date,\n",
    "    end=end_date,\n",
    "    limit=1000\n",
    ").df\n",
    "# Display sample data\n",
    "df_stock_data.head()"
   ]
  },
  {
   "cell_type": "code",
   "execution_count": 77,
   "metadata": {},
   "outputs": [],
   "source": [
    "# Configuring a Monte Carlo simulation to forecast 30 years cumulative returns\n",
    "# YOUR CODE HERE!\n",
    "thirty_yr_forcast = MCSimulation(\n",
    "    portfolio_data = df_stock_data,\n",
    "    weights = [.40,.60],\n",
    "    num_simulation = 500,\n",
    "    num_trading_days = 252*30,\n",
    ")"
   ]
  },
  {
   "cell_type": "code",
   "execution_count": 78,
   "metadata": {},
   "outputs": [
    {
     "data": {
      "text/html": [
       "<div>\n",
       "<style scoped>\n",
       "    .dataframe tbody tr th:only-of-type {\n",
       "        vertical-align: middle;\n",
       "    }\n",
       "\n",
       "    .dataframe tbody tr th {\n",
       "        vertical-align: top;\n",
       "    }\n",
       "\n",
       "    .dataframe thead tr th {\n",
       "        text-align: left;\n",
       "    }\n",
       "\n",
       "    .dataframe thead tr:last-of-type th {\n",
       "        text-align: right;\n",
       "    }\n",
       "</style>\n",
       "<table border=\"1\" class=\"dataframe\">\n",
       "  <thead>\n",
       "    <tr>\n",
       "      <th></th>\n",
       "      <th colspan=\"6\" halign=\"left\">AGG</th>\n",
       "      <th colspan=\"6\" halign=\"left\">SPY</th>\n",
       "    </tr>\n",
       "    <tr>\n",
       "      <th></th>\n",
       "      <th>open</th>\n",
       "      <th>high</th>\n",
       "      <th>low</th>\n",
       "      <th>close</th>\n",
       "      <th>volume</th>\n",
       "      <th>daily_return</th>\n",
       "      <th>open</th>\n",
       "      <th>high</th>\n",
       "      <th>low</th>\n",
       "      <th>close</th>\n",
       "      <th>volume</th>\n",
       "      <th>daily_return</th>\n",
       "    </tr>\n",
       "    <tr>\n",
       "      <th>time</th>\n",
       "      <th></th>\n",
       "      <th></th>\n",
       "      <th></th>\n",
       "      <th></th>\n",
       "      <th></th>\n",
       "      <th></th>\n",
       "      <th></th>\n",
       "      <th></th>\n",
       "      <th></th>\n",
       "      <th></th>\n",
       "      <th></th>\n",
       "      <th></th>\n",
       "    </tr>\n",
       "  </thead>\n",
       "  <tbody>\n",
       "    <tr>\n",
       "      <th>2018-01-30 00:00:00-05:00</th>\n",
       "      <td>108.12</td>\n",
       "      <td>108.120</td>\n",
       "      <td>107.92</td>\n",
       "      <td>108.005</td>\n",
       "      <td>2965870.0</td>\n",
       "      <td>NaN</td>\n",
       "      <td>NaN</td>\n",
       "      <td>NaN</td>\n",
       "      <td>NaN</td>\n",
       "      <td>NaN</td>\n",
       "      <td>NaN</td>\n",
       "      <td>NaN</td>\n",
       "    </tr>\n",
       "    <tr>\n",
       "      <th>2018-01-31 00:00:00-05:00</th>\n",
       "      <td>108.20</td>\n",
       "      <td>108.210</td>\n",
       "      <td>107.88</td>\n",
       "      <td>108.090</td>\n",
       "      <td>5729791.0</td>\n",
       "      <td>0.000787</td>\n",
       "      <td>282.73</td>\n",
       "      <td>283.30</td>\n",
       "      <td>280.68</td>\n",
       "      <td>281.91</td>\n",
       "      <td>76360186.0</td>\n",
       "      <td>NaN</td>\n",
       "    </tr>\n",
       "    <tr>\n",
       "      <th>2018-02-01 00:00:00-05:00</th>\n",
       "      <td>107.75</td>\n",
       "      <td>107.825</td>\n",
       "      <td>107.48</td>\n",
       "      <td>107.490</td>\n",
       "      <td>8569565.0</td>\n",
       "      <td>-0.005551</td>\n",
       "      <td>281.04</td>\n",
       "      <td>283.06</td>\n",
       "      <td>280.68</td>\n",
       "      <td>281.60</td>\n",
       "      <td>64693558.0</td>\n",
       "      <td>-0.001100</td>\n",
       "    </tr>\n",
       "    <tr>\n",
       "      <th>2018-02-02 00:00:00-05:00</th>\n",
       "      <td>107.25</td>\n",
       "      <td>107.345</td>\n",
       "      <td>107.10</td>\n",
       "      <td>107.200</td>\n",
       "      <td>4266243.0</td>\n",
       "      <td>-0.002698</td>\n",
       "      <td>280.08</td>\n",
       "      <td>280.23</td>\n",
       "      <td>275.41</td>\n",
       "      <td>275.52</td>\n",
       "      <td>121717871.0</td>\n",
       "      <td>-0.021591</td>\n",
       "    </tr>\n",
       "    <tr>\n",
       "      <th>2018-02-05 00:00:00-05:00</th>\n",
       "      <td>107.12</td>\n",
       "      <td>107.810</td>\n",
       "      <td>107.00</td>\n",
       "      <td>107.630</td>\n",
       "      <td>4879995.0</td>\n",
       "      <td>0.004011</td>\n",
       "      <td>273.47</td>\n",
       "      <td>275.85</td>\n",
       "      <td>263.31</td>\n",
       "      <td>264.18</td>\n",
       "      <td>205971586.0</td>\n",
       "      <td>-0.041159</td>\n",
       "    </tr>\n",
       "  </tbody>\n",
       "</table>\n",
       "</div>"
      ],
      "text/plain": [
       "                              AGG                                       \\\n",
       "                             open     high     low    close     volume   \n",
       "time                                                                     \n",
       "2018-01-30 00:00:00-05:00  108.12  108.120  107.92  108.005  2965870.0   \n",
       "2018-01-31 00:00:00-05:00  108.20  108.210  107.88  108.090  5729791.0   \n",
       "2018-02-01 00:00:00-05:00  107.75  107.825  107.48  107.490  8569565.0   \n",
       "2018-02-02 00:00:00-05:00  107.25  107.345  107.10  107.200  4266243.0   \n",
       "2018-02-05 00:00:00-05:00  107.12  107.810  107.00  107.630  4879995.0   \n",
       "\n",
       "                                           SPY                          \\\n",
       "                          daily_return    open    high     low   close   \n",
       "time                                                                     \n",
       "2018-01-30 00:00:00-05:00          NaN     NaN     NaN     NaN     NaN   \n",
       "2018-01-31 00:00:00-05:00     0.000787  282.73  283.30  280.68  281.91   \n",
       "2018-02-01 00:00:00-05:00    -0.005551  281.04  283.06  280.68  281.60   \n",
       "2018-02-02 00:00:00-05:00    -0.002698  280.08  280.23  275.41  275.52   \n",
       "2018-02-05 00:00:00-05:00     0.004011  273.47  275.85  263.31  264.18   \n",
       "\n",
       "                                                     \n",
       "                                volume daily_return  \n",
       "time                                                 \n",
       "2018-01-30 00:00:00-05:00          NaN          NaN  \n",
       "2018-01-31 00:00:00-05:00   76360186.0          NaN  \n",
       "2018-02-01 00:00:00-05:00   64693558.0    -0.001100  \n",
       "2018-02-02 00:00:00-05:00  121717871.0    -0.021591  \n",
       "2018-02-05 00:00:00-05:00  205971586.0    -0.041159  "
      ]
     },
     "execution_count": 78,
     "metadata": {},
     "output_type": "execute_result"
    }
   ],
   "source": [
    "# Printing the simulation input data\n",
    "# YOUR CODE HERE!\n",
    "thirty_yr_forcast.portfolio_data.head()"
   ]
  },
  {
   "cell_type": "code",
   "execution_count": 79,
   "metadata": {},
   "outputs": [
    {
     "name": "stdout",
     "output_type": "stream",
     "text": [
      "Running Monte Carlo simulation number 0.\n",
      "Running Monte Carlo simulation number 10.\n",
      "Running Monte Carlo simulation number 20.\n",
      "Running Monte Carlo simulation number 30.\n",
      "Running Monte Carlo simulation number 40.\n",
      "Running Monte Carlo simulation number 50.\n",
      "Running Monte Carlo simulation number 60.\n",
      "Running Monte Carlo simulation number 70.\n",
      "Running Monte Carlo simulation number 80.\n",
      "Running Monte Carlo simulation number 90.\n",
      "Running Monte Carlo simulation number 100.\n"
     ]
    },
    {
     "name": "stderr",
     "output_type": "stream",
     "text": [
      "/Users/prestonkirschner/Desktop/UM/workingcopy/02-Homework/05-APIs/Instructions/Starter_Code/MCForecastTools.py:117: PerformanceWarning: DataFrame is highly fragmented.  This is usually the result of calling `frame.insert` many times, which has poor performance.  Consider joining all columns at once using pd.concat(axis=1) instead.  To get a de-fragmented frame, use `newframe = frame.copy()`\n",
      "  portfolio_cumulative_returns[n] = (1 + sim_df.fillna(0)).cumprod()\n"
     ]
    },
    {
     "name": "stdout",
     "output_type": "stream",
     "text": [
      "Running Monte Carlo simulation number 110.\n",
      "Running Monte Carlo simulation number 120.\n",
      "Running Monte Carlo simulation number 130.\n",
      "Running Monte Carlo simulation number 140.\n",
      "Running Monte Carlo simulation number 150.\n",
      "Running Monte Carlo simulation number 160.\n",
      "Running Monte Carlo simulation number 170.\n",
      "Running Monte Carlo simulation number 180.\n",
      "Running Monte Carlo simulation number 190.\n",
      "Running Monte Carlo simulation number 200.\n",
      "Running Monte Carlo simulation number 210.\n",
      "Running Monte Carlo simulation number 220.\n",
      "Running Monte Carlo simulation number 230.\n",
      "Running Monte Carlo simulation number 240.\n",
      "Running Monte Carlo simulation number 250.\n",
      "Running Monte Carlo simulation number 260.\n",
      "Running Monte Carlo simulation number 270.\n",
      "Running Monte Carlo simulation number 280.\n",
      "Running Monte Carlo simulation number 290.\n",
      "Running Monte Carlo simulation number 300.\n",
      "Running Monte Carlo simulation number 310.\n",
      "Running Monte Carlo simulation number 320.\n",
      "Running Monte Carlo simulation number 330.\n",
      "Running Monte Carlo simulation number 340.\n",
      "Running Monte Carlo simulation number 350.\n",
      "Running Monte Carlo simulation number 360.\n",
      "Running Monte Carlo simulation number 370.\n",
      "Running Monte Carlo simulation number 380.\n",
      "Running Monte Carlo simulation number 390.\n",
      "Running Monte Carlo simulation number 400.\n",
      "Running Monte Carlo simulation number 410.\n",
      "Running Monte Carlo simulation number 420.\n",
      "Running Monte Carlo simulation number 430.\n",
      "Running Monte Carlo simulation number 440.\n",
      "Running Monte Carlo simulation number 450.\n",
      "Running Monte Carlo simulation number 460.\n",
      "Running Monte Carlo simulation number 470.\n",
      "Running Monte Carlo simulation number 480.\n",
      "Running Monte Carlo simulation number 490.\n"
     ]
    },
    {
     "data": {
      "text/html": [
       "<div>\n",
       "<style scoped>\n",
       "    .dataframe tbody tr th:only-of-type {\n",
       "        vertical-align: middle;\n",
       "    }\n",
       "\n",
       "    .dataframe tbody tr th {\n",
       "        vertical-align: top;\n",
       "    }\n",
       "\n",
       "    .dataframe thead th {\n",
       "        text-align: right;\n",
       "    }\n",
       "</style>\n",
       "<table border=\"1\" class=\"dataframe\">\n",
       "  <thead>\n",
       "    <tr style=\"text-align: right;\">\n",
       "      <th></th>\n",
       "      <th>0</th>\n",
       "      <th>1</th>\n",
       "      <th>2</th>\n",
       "      <th>3</th>\n",
       "      <th>4</th>\n",
       "      <th>5</th>\n",
       "      <th>6</th>\n",
       "      <th>7</th>\n",
       "      <th>8</th>\n",
       "      <th>9</th>\n",
       "      <th>...</th>\n",
       "      <th>490</th>\n",
       "      <th>491</th>\n",
       "      <th>492</th>\n",
       "      <th>493</th>\n",
       "      <th>494</th>\n",
       "      <th>495</th>\n",
       "      <th>496</th>\n",
       "      <th>497</th>\n",
       "      <th>498</th>\n",
       "      <th>499</th>\n",
       "    </tr>\n",
       "  </thead>\n",
       "  <tbody>\n",
       "    <tr>\n",
       "      <th>0</th>\n",
       "      <td>1.000000</td>\n",
       "      <td>1.000000</td>\n",
       "      <td>1.000000</td>\n",
       "      <td>1.000000</td>\n",
       "      <td>1.000000</td>\n",
       "      <td>1.000000</td>\n",
       "      <td>1.000000</td>\n",
       "      <td>1.000000</td>\n",
       "      <td>1.000000</td>\n",
       "      <td>1.000000</td>\n",
       "      <td>...</td>\n",
       "      <td>1.000000</td>\n",
       "      <td>1.000000</td>\n",
       "      <td>1.000000</td>\n",
       "      <td>1.000000</td>\n",
       "      <td>1.000000</td>\n",
       "      <td>1.000000</td>\n",
       "      <td>1.000000</td>\n",
       "      <td>1.000000</td>\n",
       "      <td>1.000000</td>\n",
       "      <td>1.000000</td>\n",
       "    </tr>\n",
       "    <tr>\n",
       "      <th>1</th>\n",
       "      <td>0.992381</td>\n",
       "      <td>0.998333</td>\n",
       "      <td>1.008173</td>\n",
       "      <td>0.993481</td>\n",
       "      <td>0.996668</td>\n",
       "      <td>0.978501</td>\n",
       "      <td>0.997852</td>\n",
       "      <td>0.987363</td>\n",
       "      <td>0.991978</td>\n",
       "      <td>0.998883</td>\n",
       "      <td>...</td>\n",
       "      <td>0.984187</td>\n",
       "      <td>1.014910</td>\n",
       "      <td>0.993482</td>\n",
       "      <td>0.998009</td>\n",
       "      <td>1.002914</td>\n",
       "      <td>0.997403</td>\n",
       "      <td>1.009236</td>\n",
       "      <td>0.992958</td>\n",
       "      <td>1.008515</td>\n",
       "      <td>0.989283</td>\n",
       "    </tr>\n",
       "    <tr>\n",
       "      <th>2</th>\n",
       "      <td>1.003223</td>\n",
       "      <td>0.991411</td>\n",
       "      <td>1.006207</td>\n",
       "      <td>1.000986</td>\n",
       "      <td>1.000095</td>\n",
       "      <td>0.976154</td>\n",
       "      <td>1.005140</td>\n",
       "      <td>0.990605</td>\n",
       "      <td>0.984157</td>\n",
       "      <td>1.007207</td>\n",
       "      <td>...</td>\n",
       "      <td>0.992312</td>\n",
       "      <td>1.022471</td>\n",
       "      <td>0.991990</td>\n",
       "      <td>0.991946</td>\n",
       "      <td>1.004968</td>\n",
       "      <td>1.002628</td>\n",
       "      <td>1.002350</td>\n",
       "      <td>0.985472</td>\n",
       "      <td>1.002555</td>\n",
       "      <td>0.983285</td>\n",
       "    </tr>\n",
       "    <tr>\n",
       "      <th>3</th>\n",
       "      <td>1.003838</td>\n",
       "      <td>1.006248</td>\n",
       "      <td>1.014551</td>\n",
       "      <td>0.992826</td>\n",
       "      <td>1.014386</td>\n",
       "      <td>0.984669</td>\n",
       "      <td>1.003654</td>\n",
       "      <td>0.979914</td>\n",
       "      <td>0.989486</td>\n",
       "      <td>0.994969</td>\n",
       "      <td>...</td>\n",
       "      <td>0.996280</td>\n",
       "      <td>1.017745</td>\n",
       "      <td>0.988282</td>\n",
       "      <td>0.973883</td>\n",
       "      <td>1.011035</td>\n",
       "      <td>0.991160</td>\n",
       "      <td>1.007289</td>\n",
       "      <td>0.976229</td>\n",
       "      <td>1.003352</td>\n",
       "      <td>0.983591</td>\n",
       "    </tr>\n",
       "    <tr>\n",
       "      <th>4</th>\n",
       "      <td>1.002343</td>\n",
       "      <td>1.006064</td>\n",
       "      <td>1.012596</td>\n",
       "      <td>0.994151</td>\n",
       "      <td>1.018284</td>\n",
       "      <td>0.981743</td>\n",
       "      <td>1.007365</td>\n",
       "      <td>0.983791</td>\n",
       "      <td>0.995840</td>\n",
       "      <td>0.980057</td>\n",
       "      <td>...</td>\n",
       "      <td>0.999547</td>\n",
       "      <td>1.001553</td>\n",
       "      <td>0.993659</td>\n",
       "      <td>0.978940</td>\n",
       "      <td>1.012175</td>\n",
       "      <td>0.994314</td>\n",
       "      <td>1.017305</td>\n",
       "      <td>0.972279</td>\n",
       "      <td>0.999811</td>\n",
       "      <td>0.983526</td>\n",
       "    </tr>\n",
       "    <tr>\n",
       "      <th>...</th>\n",
       "      <td>...</td>\n",
       "      <td>...</td>\n",
       "      <td>...</td>\n",
       "      <td>...</td>\n",
       "      <td>...</td>\n",
       "      <td>...</td>\n",
       "      <td>...</td>\n",
       "      <td>...</td>\n",
       "      <td>...</td>\n",
       "      <td>...</td>\n",
       "      <td>...</td>\n",
       "      <td>...</td>\n",
       "      <td>...</td>\n",
       "      <td>...</td>\n",
       "      <td>...</td>\n",
       "      <td>...</td>\n",
       "      <td>...</td>\n",
       "      <td>...</td>\n",
       "      <td>...</td>\n",
       "      <td>...</td>\n",
       "      <td>...</td>\n",
       "    </tr>\n",
       "    <tr>\n",
       "      <th>7556</th>\n",
       "      <td>33.745580</td>\n",
       "      <td>10.883270</td>\n",
       "      <td>20.397274</td>\n",
       "      <td>74.853549</td>\n",
       "      <td>23.116948</td>\n",
       "      <td>11.685296</td>\n",
       "      <td>10.344421</td>\n",
       "      <td>10.667316</td>\n",
       "      <td>15.426494</td>\n",
       "      <td>19.121116</td>\n",
       "      <td>...</td>\n",
       "      <td>8.051545</td>\n",
       "      <td>3.650365</td>\n",
       "      <td>8.418631</td>\n",
       "      <td>23.584953</td>\n",
       "      <td>8.840662</td>\n",
       "      <td>19.362142</td>\n",
       "      <td>65.176549</td>\n",
       "      <td>7.107402</td>\n",
       "      <td>17.900426</td>\n",
       "      <td>10.956276</td>\n",
       "    </tr>\n",
       "    <tr>\n",
       "      <th>7557</th>\n",
       "      <td>33.458788</td>\n",
       "      <td>10.985805</td>\n",
       "      <td>20.271298</td>\n",
       "      <td>74.293051</td>\n",
       "      <td>23.396511</td>\n",
       "      <td>11.641538</td>\n",
       "      <td>10.418439</td>\n",
       "      <td>10.849810</td>\n",
       "      <td>15.517272</td>\n",
       "      <td>18.762977</td>\n",
       "      <td>...</td>\n",
       "      <td>8.118290</td>\n",
       "      <td>3.630693</td>\n",
       "      <td>8.421079</td>\n",
       "      <td>23.625458</td>\n",
       "      <td>8.868877</td>\n",
       "      <td>19.074759</td>\n",
       "      <td>63.406306</td>\n",
       "      <td>7.057524</td>\n",
       "      <td>17.826445</td>\n",
       "      <td>10.891408</td>\n",
       "    </tr>\n",
       "    <tr>\n",
       "      <th>7558</th>\n",
       "      <td>33.256564</td>\n",
       "      <td>10.843670</td>\n",
       "      <td>20.635476</td>\n",
       "      <td>74.554115</td>\n",
       "      <td>23.343819</td>\n",
       "      <td>11.585629</td>\n",
       "      <td>10.297078</td>\n",
       "      <td>10.829479</td>\n",
       "      <td>15.457334</td>\n",
       "      <td>19.131090</td>\n",
       "      <td>...</td>\n",
       "      <td>8.149300</td>\n",
       "      <td>3.675768</td>\n",
       "      <td>8.420396</td>\n",
       "      <td>23.382851</td>\n",
       "      <td>8.886275</td>\n",
       "      <td>18.956329</td>\n",
       "      <td>63.929689</td>\n",
       "      <td>7.070379</td>\n",
       "      <td>17.854077</td>\n",
       "      <td>10.827504</td>\n",
       "    </tr>\n",
       "    <tr>\n",
       "      <th>7559</th>\n",
       "      <td>33.227399</td>\n",
       "      <td>10.866221</td>\n",
       "      <td>20.645463</td>\n",
       "      <td>74.861770</td>\n",
       "      <td>23.181818</td>\n",
       "      <td>11.577625</td>\n",
       "      <td>10.340488</td>\n",
       "      <td>10.995928</td>\n",
       "      <td>15.477580</td>\n",
       "      <td>19.004579</td>\n",
       "      <td>...</td>\n",
       "      <td>8.173364</td>\n",
       "      <td>3.699117</td>\n",
       "      <td>8.365969</td>\n",
       "      <td>23.753690</td>\n",
       "      <td>8.910836</td>\n",
       "      <td>19.128464</td>\n",
       "      <td>63.627606</td>\n",
       "      <td>7.077149</td>\n",
       "      <td>17.757983</td>\n",
       "      <td>10.756296</td>\n",
       "    </tr>\n",
       "    <tr>\n",
       "      <th>7560</th>\n",
       "      <td>33.714014</td>\n",
       "      <td>10.793018</td>\n",
       "      <td>20.520010</td>\n",
       "      <td>74.405234</td>\n",
       "      <td>23.394344</td>\n",
       "      <td>11.697761</td>\n",
       "      <td>10.367431</td>\n",
       "      <td>10.811681</td>\n",
       "      <td>15.522607</td>\n",
       "      <td>19.021444</td>\n",
       "      <td>...</td>\n",
       "      <td>8.223343</td>\n",
       "      <td>3.716003</td>\n",
       "      <td>8.230169</td>\n",
       "      <td>23.710270</td>\n",
       "      <td>9.000787</td>\n",
       "      <td>19.259880</td>\n",
       "      <td>63.430953</td>\n",
       "      <td>7.109014</td>\n",
       "      <td>17.773485</td>\n",
       "      <td>10.882617</td>\n",
       "    </tr>\n",
       "  </tbody>\n",
       "</table>\n",
       "<p>7561 rows × 500 columns</p>\n",
       "</div>"
      ],
      "text/plain": [
       "            0          1          2          3          4          5    \\\n",
       "0      1.000000   1.000000   1.000000   1.000000   1.000000   1.000000   \n",
       "1      0.992381   0.998333   1.008173   0.993481   0.996668   0.978501   \n",
       "2      1.003223   0.991411   1.006207   1.000986   1.000095   0.976154   \n",
       "3      1.003838   1.006248   1.014551   0.992826   1.014386   0.984669   \n",
       "4      1.002343   1.006064   1.012596   0.994151   1.018284   0.981743   \n",
       "...         ...        ...        ...        ...        ...        ...   \n",
       "7556  33.745580  10.883270  20.397274  74.853549  23.116948  11.685296   \n",
       "7557  33.458788  10.985805  20.271298  74.293051  23.396511  11.641538   \n",
       "7558  33.256564  10.843670  20.635476  74.554115  23.343819  11.585629   \n",
       "7559  33.227399  10.866221  20.645463  74.861770  23.181818  11.577625   \n",
       "7560  33.714014  10.793018  20.520010  74.405234  23.394344  11.697761   \n",
       "\n",
       "            6          7          8          9    ...       490       491  \\\n",
       "0      1.000000   1.000000   1.000000   1.000000  ...  1.000000  1.000000   \n",
       "1      0.997852   0.987363   0.991978   0.998883  ...  0.984187  1.014910   \n",
       "2      1.005140   0.990605   0.984157   1.007207  ...  0.992312  1.022471   \n",
       "3      1.003654   0.979914   0.989486   0.994969  ...  0.996280  1.017745   \n",
       "4      1.007365   0.983791   0.995840   0.980057  ...  0.999547  1.001553   \n",
       "...         ...        ...        ...        ...  ...       ...       ...   \n",
       "7556  10.344421  10.667316  15.426494  19.121116  ...  8.051545  3.650365   \n",
       "7557  10.418439  10.849810  15.517272  18.762977  ...  8.118290  3.630693   \n",
       "7558  10.297078  10.829479  15.457334  19.131090  ...  8.149300  3.675768   \n",
       "7559  10.340488  10.995928  15.477580  19.004579  ...  8.173364  3.699117   \n",
       "7560  10.367431  10.811681  15.522607  19.021444  ...  8.223343  3.716003   \n",
       "\n",
       "           492        493       494        495        496       497  \\\n",
       "0     1.000000   1.000000  1.000000   1.000000   1.000000  1.000000   \n",
       "1     0.993482   0.998009  1.002914   0.997403   1.009236  0.992958   \n",
       "2     0.991990   0.991946  1.004968   1.002628   1.002350  0.985472   \n",
       "3     0.988282   0.973883  1.011035   0.991160   1.007289  0.976229   \n",
       "4     0.993659   0.978940  1.012175   0.994314   1.017305  0.972279   \n",
       "...        ...        ...       ...        ...        ...       ...   \n",
       "7556  8.418631  23.584953  8.840662  19.362142  65.176549  7.107402   \n",
       "7557  8.421079  23.625458  8.868877  19.074759  63.406306  7.057524   \n",
       "7558  8.420396  23.382851  8.886275  18.956329  63.929689  7.070379   \n",
       "7559  8.365969  23.753690  8.910836  19.128464  63.627606  7.077149   \n",
       "7560  8.230169  23.710270  9.000787  19.259880  63.430953  7.109014   \n",
       "\n",
       "            498        499  \n",
       "0      1.000000   1.000000  \n",
       "1      1.008515   0.989283  \n",
       "2      1.002555   0.983285  \n",
       "3      1.003352   0.983591  \n",
       "4      0.999811   0.983526  \n",
       "...         ...        ...  \n",
       "7556  17.900426  10.956276  \n",
       "7557  17.826445  10.891408  \n",
       "7558  17.854077  10.827504  \n",
       "7559  17.757983  10.756296  \n",
       "7560  17.773485  10.882617  \n",
       "\n",
       "[7561 rows x 500 columns]"
      ]
     },
     "execution_count": 79,
     "metadata": {},
     "output_type": "execute_result"
    }
   ],
   "source": [
    "# Running a Monte Carlo simulation to forecast 30 years cumulative returns\n",
    "# YOUR CODE HERE!\n",
    "thirty_yr_forcast.calc_cumulative_return()"
   ]
  },
  {
   "cell_type": "code",
   "execution_count": 80,
   "metadata": {},
   "outputs": [
    {
     "data": {
      "image/png": "[encoded data removed]",
      "text/plain": [
       "<Figure size 432x288 with 1 Axes>"
      ]
     },
     "metadata": {
      "needs_background": "light"
     },
     "output_type": "display_data"
    }
   ],
   "source": [
    "# Plot simulation outcomes\n",
    "# YOUR CODE HERE!\n",
    "line_plot = thirty_yr_forcast.plot_simulation()"
   ]
  },
  {
   "cell_type": "code",
   "execution_count": 81,
   "metadata": {},
   "outputs": [
    {
     "data": {
      "image/png": "[encoded data removed]",
      "text/plain": [
       "<Figure size 432x288 with 1 Axes>"
      ]
     },
     "metadata": {
      "needs_background": "light"
     },
     "output_type": "display_data"
    }
   ],
   "source": [
    "# Plot probability distribution and confidence intervals\n",
    "# YOUR CODE HERE!\n",
    "dist_plot = thirty_yr_forcast.plot_distribution()"
   ]
  },
  {
   "cell_type": "markdown",
   "metadata": {},
   "source": [
    "### Retirement Analysis"
   ]
  },
  {
   "cell_type": "code",
   "execution_count": 82,
   "metadata": {},
   "outputs": [
    {
     "data": {
      "text/plain": [
       "count           500.000000\n",
       "mean             15.677459\n",
       "std              12.817686\n",
       "min               1.311196\n",
       "25%               7.453627\n",
       "50%              11.926429\n",
       "75%              19.070001\n",
       "max             108.228619\n",
       "95% CI Lower      3.230844\n",
       "95% CI Upper     49.900361\n",
       "Name: 7560, dtype: float64"
      ]
     },
     "execution_count": 82,
     "metadata": {},
     "output_type": "execute_result"
    }
   ],
   "source": [
    "# Fetch summary statistics from the Monte Carlo simulation results\n",
    "# YOUR CODE HERE!\n",
    "tbl = thirty_yr_forcast.summarize_cumulative_return()\n",
    "# Print summary statistics\n",
    "# YOUR CODE HERE!\n",
    "tbl"
   ]
  },
  {
   "cell_type": "markdown",
   "metadata": {},
   "source": [
    "### Calculate the expected portfolio return at the `95%` lower and upper confidence intervals based on a `$20,000` initial investment."
   ]
  },
  {
   "cell_type": "code",
   "execution_count": 89,
   "metadata": {},
   "outputs": [
    {
     "name": "stdout",
     "output_type": "stream",
     "text": [
      "There is a 95% chance that an initial investment of $20000 in the portfolio over the next 30 years will end within in the range of $64616.87 and $998007.23\n"
     ]
    }
   ],
   "source": [
    "# Set initial investment\n",
    "initial_investment = 20000\n",
    "\n",
    "# Use the lower and upper `95%` confidence intervals to calculate the range of the possible outcomes of our $20,000\n",
    "# YOUR CODE HERE!\n",
    "ci_lower = round(tbl[-2]*20000,2)\n",
    "ci_upper = round(tbl[-1]*20000,2)\n",
    "# Print results\n",
    "print(f\"There is a 95% chance that an initial investment of ${initial_investment} in the portfolio\"\n",
    "      f\" over the next 30 years will end within in the range of\"\n",
    "      f\" ${ci_lower} and ${ci_upper}\")"
   ]
  },
  {
   "cell_type": "markdown",
   "metadata": {},
   "source": [
    "### Calculate the expected portfolio return at the `95%` lower and upper confidence intervals based on a `50%` increase in the initial investment."
   ]
  },
  {
   "cell_type": "code",
   "execution_count": 90,
   "metadata": {},
   "outputs": [
    {
     "name": "stdout",
     "output_type": "stream",
     "text": [
      "There is a 95% chance that an initial investment of $30000.0 in the portfolio over the next 30 years will end within in the range of $96925.31 and $1497010.84\n"
     ]
    }
   ],
   "source": [
    "# Set initial investment\n",
    "initial_investment = 20000 * 1.5\n",
    "\n",
    "# Use the lower and upper `95%` confidence intervals to calculate the range of the possible outcomes of our $30,000\n",
    "# YOUR CODE HERE!\n",
    "ci_lower = round(tbl[8]*30000,2)\n",
    "ci_upper = round(tbl[9]*30000,2)\n",
    "# Print results\n",
    "print(f\"There is a 95% chance that an initial investment of ${initial_investment} in the portfolio\"\n",
    "      f\" over the next 30 years will end within in the range of\"\n",
    "      f\" ${ci_lower} and ${ci_upper}\")"
   ]
  },
  {
   "cell_type": "markdown",
   "metadata": {},
   "source": [
    "## Optional Challenge - Early Retirement\n",
    "\n",
    "\n",
    "### Five Years Retirement Option"
   ]
  },
  {
   "cell_type": "code",
   "execution_count": null,
   "metadata": {},
   "outputs": [],
   "source": [
    "# Configuring a Monte Carlo simulation to forecast 5 years cumulative returns\n",
    "# YOUR CODE HERE!"
   ]
  },
  {
   "cell_type": "code",
   "execution_count": null,
   "metadata": {},
   "outputs": [],
   "source": [
    "# Running a Monte Carlo simulation to forecast 5 years cumulative returns\n",
    "# YOUR CODE HERE!"
   ]
  },
  {
   "cell_type": "code",
   "execution_count": null,
   "metadata": {},
   "outputs": [],
   "source": [
    "# Plot simulation outcomes\n",
    "# YOUR CODE HERE!"
   ]
  },
  {
   "cell_type": "code",
   "execution_count": null,
   "metadata": {},
   "outputs": [],
   "source": [
    "# Plot probability distribution and confidence intervals\n",
    "# YOUR CODE HERE!"
   ]
  },
  {
   "cell_type": "code",
   "execution_count": null,
   "metadata": {},
   "outputs": [],
   "source": [
    "# Fetch summary statistics from the Monte Carlo simulation results\n",
    "# YOUR CODE HERE!\n",
    "\n",
    "# Print summary statistics\n",
    "# YOUR CODE HERE!"
   ]
  },
  {
   "cell_type": "code",
   "execution_count": null,
   "metadata": {},
   "outputs": [],
   "source": [
    "# Set initial investment\n",
    "# YOUR CODE HERE!\n",
    "\n",
    "# Use the lower and upper `95%` confidence intervals to calculate the range of the possible outcomes of our $60,000\n",
    "# YOUR CODE HERE!\n",
    "\n",
    "# Print results\n",
    "print(f\"There is a 95% chance that an initial investment of ${initial_investment} in the portfolio\"\n",
    "      f\" over the next 5 years will end within in the range of\"\n",
    "      f\" ${ci_lower_five} and ${ci_upper_five}\")"
   ]
  },
  {
   "cell_type": "markdown",
   "metadata": {},
   "source": [
    "### Ten Years Retirement Option"
   ]
  },
  {
   "cell_type": "code",
   "execution_count": null,
   "metadata": {},
   "outputs": [],
   "source": [
    "# Configuring a Monte Carlo simulation to forecast 10 years cumulative returns\n",
    "# YOUR CODE HERE!"
   ]
  },
  {
   "cell_type": "code",
   "execution_count": null,
   "metadata": {},
   "outputs": [],
   "source": [
    "# Running a Monte Carlo simulation to forecast 10 years cumulative returns\n",
    "# YOUR CODE HERE!"
   ]
  },
  {
   "cell_type": "code",
   "execution_count": null,
   "metadata": {},
   "outputs": [],
   "source": [
    "# Plot simulation outcomes\n",
    "# YOUR CODE HERE!"
   ]
  },
  {
   "cell_type": "code",
   "execution_count": null,
   "metadata": {},
   "outputs": [],
   "source": [
    "# Plot probability distribution and confidence intervals\n",
    "# YOUR CODE HERE!"
   ]
  },
  {
   "cell_type": "code",
   "execution_count": null,
   "metadata": {},
   "outputs": [],
   "source": [
    "# Fetch summary statistics from the Monte Carlo simulation results\n",
    "# YOUR CODE HERE!\n",
    "\n",
    "# Print summary statistics\n",
    "# YOUR CODE HERE!"
   ]
  },
  {
   "cell_type": "code",
   "execution_count": null,
   "metadata": {},
   "outputs": [],
   "source": [
    "# Set initial investment\n",
    "# YOUR CODE HERE!\n",
    "\n",
    "# Use the lower and upper `95%` confidence intervals to calculate the range of the possible outcomes of our $60,000\n",
    "# YOUR CODE HERE!\n",
    "\n",
    "# Print results\n",
    "print(f\"There is a 95% chance that an initial investment of ${initial_investment} in the portfolio\"\n",
    "      f\" over the next 10 years will end within in the range of\"\n",
    "      f\" ${ci_lower_ten} and ${ci_upper_ten}\")"
   ]
  },
  {
   "cell_type": "code",
   "execution_count": null,
   "metadata": {},
   "outputs": [],
   "source": []
  }
 ],
 "metadata": {
  "kernelspec": {
   "display_name": "Python 3 (ipykernel)",
   "language": "python",
   "name": "python3"
  },
  "language_info": {
   "codemirror_mode": {
    "name": "ipython",
    "version": 3
   },
   "file_extension": ".py",
   "mimetype": "text/x-python",
   "name": "python",
   "nbconvert_exporter": "python",
   "pygments_lexer": "ipython3",
   "version": "3.7.11"
  },
  "nteract": {
   "version": "0.28.0"
  }
 },
 "nbformat": 4,
 "nbformat_minor": 4
}
